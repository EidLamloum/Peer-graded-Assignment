{
 "cells": [
  {
   "cell_type": "markdown",
   "id": "1e2e7f15-c706-4c78-b311-def97f3b63a2",
   "metadata": {},
   "source": [
    "# Data Science Tools and Ecosystem"
   ]
  },
  {
   "cell_type": "markdown",
   "id": "f4988400-c87b-4f7f-a1f1-78fb7301fe87",
   "metadata": {},
   "source": [
    "In this notebook, Data Science Tools and Ecosystem are summarized."
   ]
  },
  {
   "cell_type": "markdown",
   "id": "967d554b-5064-4566-a5a7-3f722fa56fd6",
   "metadata": {},
   "source": [
    "<strong>Objects:</strong>\n",
    "<ul>\n",
    "<li>List popular languages that Data Scientists use.</li>\n",
    "<li>List commonly used libraries used by Data Scientists.</li>\n",
    "<li>Comment on Data Science tools.</li>\n",
    "</ul>"
   ]
  },
  {
   "cell_type": "markdown",
   "id": "1593db11-1a93-48c5-8e15-d0f2727ad3bd",
   "metadata": {},
   "source": [
    "<strong>Some of the popular languages that Data Scientists use are:</strong>\r\n",
    "\r\n",
    "  <ol>\r\n",
    "  <li>Python.</li>\r\n",
    "  <li>R.</li>\r\n",
    "  <li>SQL.</li>\r\n",
    "  <li>Jave.</li>\r\n",
    "  <li>Julia.</li>\r\n",
    "  <li>scala</li>\r\n",
    "  <li>C/C++.</li>\r\n",
    "  <li>JavaScript.</li>\r\n",
    "  </ol>"
   ]
  },
  {
   "cell_type": "markdown",
   "id": "e34e6148-5ebc-4162-a729-ef14b789e5e9",
   "metadata": {},
   "source": [
    "<strong>Some of the commonly used libraries used by Data Scientists include:</strong>\n",
    "\n",
    "<ol>\n",
    "      <li>TensorFlow.</li>\n",
    "       <li>NumPy.</li>\n",
    "       <li>SciPy.</li>\n",
    "       <li>Pandas.</li>\n",
    "       <li>Matplotlib.</li>\n",
    "       <li>Keras.</li>\n",
    "       <li>SciKit-Learn.</li>\n",
    "       <li>PyTorch.</li>\n",
    "       <li>Scrapy.</li>\n",
    "       <li>BeautifulSoup.</li>\n",
    "       <li>LightGBM.</li>\n",
    "       <li>ELI5.</li>\n",
    "       <li>Theano.</li>\n",
    "       <li>NuPIC.</li>\n",
    "       <li>Ramp.</li>\n",
    "       <li>Pipenv.</li>\n",
    "       <li>Bob.</li>\n",
    "       <li>PyBrain.</li>\n",
    "       <li>Caffe2.</li>\n",
    "    <li>Chainer.</li>\n",
    "</ol>"
   ]
  },
  {
   "cell_type": "markdown",
   "id": "47077d53-822f-4f4d-bb5d-e567c70d808e",
   "metadata": {},
   "source": [
    " <table style=\"width:100%\">\n",
    "\n",
    "<tr>\n",
    "     <th>Data Science Tools</th>\n",
    "</tr>\n",
    "<tr>\n",
    "    <td>SAS. It is one of those data science tools which are specifically designed for statistical operation</td>\n",
    "</tr>\n",
    "<tr>\n",
    "    <td>Apache Spark</td>\n",
    "</tr>\n",
    " <tr>\n",
    "     <td>BigML</td>\n",
    "</tr>\n",
    "     \n",
    " </table>\n",
    "</td>\r\n",
    "</tr>\r\n",
    "</table>"
   ]
  },
  {
   "cell_type": "markdown",
   "id": "67bba527-a795-46b1-9aa3-9b9158002d40",
   "metadata": {},
   "source": [
    "<h3>Below are a few examples of evaluating arithmetic expressions in Python</h3>\n",
    "\n",
    "$\n",
    "X^{2} - 25 = 0\n",
    "$"
   ]
  },
  {
   "cell_type": "markdown",
   "id": "9177f337-575e-46fc-8277-38ddb425b1f9",
   "metadata": {},
   "source": [
    "# Arithmetic operations\n",
    "code = compile(\"5 + 4\", \"\\<string>\\\", \"eval\\\")\n",
    "\n",
    "eval(code)\n",
    "# Result: 9\n",
    "\n",
    "code1 = compile(\"(5 + 7) * 2\",\" \\<string>\\\", \"eval\\\")\n",
    "\"eval(code)\n",
    "\n",
    " \"# Result: 4\""
   ]
  },
  {
   "cell_type": "code",
   "execution_count": 181,
   "id": "fa87d8b8-6841-4789-9f03-b9102857a480",
   "metadata": {},
   "outputs": [
    {
     "data": {
      "text/plain": [
       "17"
      ]
     },
     "execution_count": 181,
     "metadata": {},
     "output_type": "execute_result"
    }
   ],
   "source": [
    "#This a simple arithmetic expression to mutiply then add integers\n",
    "(3*4)+5"
   ]
  },
  {
   "cell_type": "code",
   "execution_count": 189,
   "id": "82e5c5e5-9ff1-44fd-b1a6-7553d8835047",
   "metadata": {},
   "outputs": [
    {
     "name": "stdout",
     "output_type": "stream",
     "text": [
      "3.3333333333333335\n"
     ]
    }
   ],
   "source": [
    "#This will convert 200 minutes to hours by diving by 60\n",
    "x_minutes=200\n",
    "x_Hours=x_minutes/60\n",
    "print(x_Hours)"
   ]
  },
  {
   "cell_type": "markdown",
   "id": "839a454f-1fad-46c3-a460-f1a2e28adef4",
   "metadata": {},
   "source": [
    "<h2>Author:</h2> Eid Mohamed Lamloum\""
   ]
  }
 ],
 "metadata": {
  "kernelspec": {
   "display_name": "Python 3 (ipykernel)",
   "language": "python",
   "name": "python3"
  },
  "language_info": {
   "codemirror_mode": {
    "name": "ipython",
    "version": 3
   },
   "file_extension": ".py",
   "mimetype": "text/x-python",
   "name": "python",
   "nbconvert_exporter": "python",
   "pygments_lexer": "ipython3",
   "version": "3.12.4"
  }
 },
 "nbformat": 4,
 "nbformat_minor": 5
}
